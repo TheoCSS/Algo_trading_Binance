{
 "cells": [
  {
   "cell_type": "code",
   "execution_count": 82,
   "id": "3f617cbf",
   "metadata": {},
   "outputs": [],
   "source": [
    "import pandas as pd\n",
    "import time\n",
    "import datetime as dt\n",
    "import numpy as np\n",
    "import matplotlib.pyplot as plt"
   ]
  },
  {
   "cell_type": "code",
   "execution_count": 83,
   "id": "ceb73cd4",
   "metadata": {},
   "outputs": [],
   "source": [
    "df_avax = pd.read_csv(\"../data/AVAXUSDT_15m.csv\")\n",
    "df_bnb = pd.read_csv(\"../data/BNBUSDT_15m.csv\")\n",
    "df_btc = pd.read_csv(\"../data/BTCUSDT_15m.csv\")\n",
    "df_eth = pd.read_csv(\"../data/ETHUSDT_15m.csv\")\n",
    "dict_df={\n",
    "    \"avax\":df_avax,\n",
    "    \"bnb\": df_bnb,\n",
    "    \"btc\":df_btc,\n",
    "    \"eth\": df_eth\n",
    "}"
   ]
  },
  {
   "cell_type": "code",
   "execution_count": 84,
   "id": "1efa2b2e",
   "metadata": {},
   "outputs": [
    {
     "data": {
      "text/html": [
       "<div>\n",
       "<style scoped>\n",
       "    .dataframe tbody tr th:only-of-type {\n",
       "        vertical-align: middle;\n",
       "    }\n",
       "\n",
       "    .dataframe tbody tr th {\n",
       "        vertical-align: top;\n",
       "    }\n",
       "\n",
       "    .dataframe thead th {\n",
       "        text-align: right;\n",
       "    }\n",
       "</style>\n",
       "<table border=\"1\" class=\"dataframe\">\n",
       "  <thead>\n",
       "    <tr style=\"text-align: right;\">\n",
       "      <th></th>\n",
       "      <th>openTime</th>\n",
       "      <th>open</th>\n",
       "      <th>high</th>\n",
       "      <th>low</th>\n",
       "      <th>close</th>\n",
       "      <th>volume</th>\n",
       "      <th>closeTime</th>\n",
       "      <th>quoteAssetVolume</th>\n",
       "      <th>numberOfTrades</th>\n",
       "      <th>takerBuyBase</th>\n",
       "      <th>takerBuyQuote</th>\n",
       "      <th>ignore</th>\n",
       "    </tr>\n",
       "  </thead>\n",
       "  <tbody>\n",
       "    <tr>\n",
       "      <th>0</th>\n",
       "      <td>2020-09-17 12:45:00+00:00</td>\n",
       "      <td>10846.15</td>\n",
       "      <td>10847.06</td>\n",
       "      <td>10800.01</td>\n",
       "      <td>10803.95</td>\n",
       "      <td>597.639102</td>\n",
       "      <td>2020-09-17 12:59:59.999000+00:00</td>\n",
       "      <td>6.467132e+06</td>\n",
       "      <td>8632</td>\n",
       "      <td>244.025994</td>\n",
       "      <td>2.640912e+06</td>\n",
       "      <td>0</td>\n",
       "    </tr>\n",
       "    <tr>\n",
       "      <th>1</th>\n",
       "      <td>2020-09-17 13:00:00+00:00</td>\n",
       "      <td>10803.95</td>\n",
       "      <td>10820.65</td>\n",
       "      <td>10745.83</td>\n",
       "      <td>10769.31</td>\n",
       "      <td>1581.175014</td>\n",
       "      <td>2020-09-17 13:14:59.999000+00:00</td>\n",
       "      <td>1.704408e+07</td>\n",
       "      <td>14769</td>\n",
       "      <td>664.005481</td>\n",
       "      <td>7.157146e+06</td>\n",
       "      <td>0</td>\n",
       "    </tr>\n",
       "    <tr>\n",
       "      <th>2</th>\n",
       "      <td>2020-09-17 13:15:00+00:00</td>\n",
       "      <td>10769.31</td>\n",
       "      <td>10799.00</td>\n",
       "      <td>10756.77</td>\n",
       "      <td>10781.00</td>\n",
       "      <td>748.213413</td>\n",
       "      <td>2020-09-17 13:29:59.999000+00:00</td>\n",
       "      <td>8.064910e+06</td>\n",
       "      <td>11097</td>\n",
       "      <td>351.875530</td>\n",
       "      <td>3.792940e+06</td>\n",
       "      <td>0</td>\n",
       "    </tr>\n",
       "    <tr>\n",
       "      <th>3</th>\n",
       "      <td>2020-09-17 13:30:00+00:00</td>\n",
       "      <td>10781.11</td>\n",
       "      <td>10794.50</td>\n",
       "      <td>10762.68</td>\n",
       "      <td>10778.08</td>\n",
       "      <td>684.306532</td>\n",
       "      <td>2020-09-17 13:44:59.999000+00:00</td>\n",
       "      <td>7.376073e+06</td>\n",
       "      <td>9383</td>\n",
       "      <td>318.177799</td>\n",
       "      <td>3.429786e+06</td>\n",
       "      <td>0</td>\n",
       "    </tr>\n",
       "    <tr>\n",
       "      <th>4</th>\n",
       "      <td>2020-09-17 13:45:00+00:00</td>\n",
       "      <td>10778.09</td>\n",
       "      <td>10822.00</td>\n",
       "      <td>10776.10</td>\n",
       "      <td>10819.91</td>\n",
       "      <td>787.662968</td>\n",
       "      <td>2020-09-17 13:59:59.999000+00:00</td>\n",
       "      <td>8.511489e+06</td>\n",
       "      <td>8946</td>\n",
       "      <td>433.376133</td>\n",
       "      <td>4.682812e+06</td>\n",
       "      <td>0</td>\n",
       "    </tr>\n",
       "  </tbody>\n",
       "</table>\n",
       "</div>"
      ],
      "text/plain": [
       "                    openTime      open      high       low     close  \\\n",
       "0  2020-09-17 12:45:00+00:00  10846.15  10847.06  10800.01  10803.95   \n",
       "1  2020-09-17 13:00:00+00:00  10803.95  10820.65  10745.83  10769.31   \n",
       "2  2020-09-17 13:15:00+00:00  10769.31  10799.00  10756.77  10781.00   \n",
       "3  2020-09-17 13:30:00+00:00  10781.11  10794.50  10762.68  10778.08   \n",
       "4  2020-09-17 13:45:00+00:00  10778.09  10822.00  10776.10  10819.91   \n",
       "\n",
       "        volume                         closeTime  quoteAssetVolume  \\\n",
       "0   597.639102  2020-09-17 12:59:59.999000+00:00      6.467132e+06   \n",
       "1  1581.175014  2020-09-17 13:14:59.999000+00:00      1.704408e+07   \n",
       "2   748.213413  2020-09-17 13:29:59.999000+00:00      8.064910e+06   \n",
       "3   684.306532  2020-09-17 13:44:59.999000+00:00      7.376073e+06   \n",
       "4   787.662968  2020-09-17 13:59:59.999000+00:00      8.511489e+06   \n",
       "\n",
       "   numberOfTrades  takerBuyBase  takerBuyQuote  ignore  \n",
       "0            8632    244.025994   2.640912e+06       0  \n",
       "1           14769    664.005481   7.157146e+06       0  \n",
       "2           11097    351.875530   3.792940e+06       0  \n",
       "3            9383    318.177799   3.429786e+06       0  \n",
       "4            8946    433.376133   4.682812e+06       0  "
      ]
     },
     "execution_count": 84,
     "metadata": {},
     "output_type": "execute_result"
    }
   ],
   "source": [
    "df_btc.head()"
   ]
  },
  {
   "cell_type": "markdown",
   "id": "c788fc9c",
   "metadata": {},
   "source": [
    "# New features"
   ]
  },
  {
   "cell_type": "code",
   "execution_count": 85,
   "id": "0ddcb9b6",
   "metadata": {},
   "outputs": [],
   "source": [
    "list_crypto = [\"avax\",\"bnb\",\"btc\",\"eth\"]"
   ]
  },
  {
   "cell_type": "code",
   "execution_count": null,
   "id": "64c1a26b",
   "metadata": {},
   "outputs": [],
   "source": [
    "def cleaner(df):\n",
    "    df = df.drop(columns=[\"ignore\"])\n",
    "    df[\"log_return\"] = np.log(df[\"close\"]/df[\"open\"])\n",
    "    df[\"volume\"] = df[\"volume\"].replace(0, np.nan)  # Remplace 0 par NaN\n",
    "    df[\"log_vol\"] = np.log(df[\"volume\"])\n",
    "    df[\"openTime\"] = df[\"openTime\"]\n",
    "    return df"
   ]
  },
  {
   "cell_type": "code",
   "execution_count": 87,
   "id": "349a93f6",
   "metadata": {},
   "outputs": [],
   "source": [
    "clean_btc = cleaner(df_btc)"
   ]
  },
  {
   "cell_type": "code",
   "execution_count": 88,
   "id": "53b340d6",
   "metadata": {},
   "outputs": [
    {
     "data": {
      "image/png": "[encoded data removed]",
      "text/plain": [
       "<Figure size 640x480 with 1 Axes>"
      ]
     },
     "metadata": {},
     "output_type": "display_data"
    }
   ],
   "source": [
    "plt.figure()\n",
    "plt.hist(clean_btc[\"log_return\"],bins=1000, density=True)\n",
    "plt.show()"
   ]
  },
  {
   "cell_type": "markdown",
   "id": "292849d3",
   "metadata": {},
   "source": [
    "## High-low-day detector"
   ]
  },
  {
   "cell_type": "code",
   "execution_count": 109,
   "id": "68cccea6",
   "metadata": {},
   "outputs": [],
   "source": [
    "def current_max_low(df):\n",
    "    # S'assurer que la colonne date est bien en datetime\n",
    "    df[\"date\"] = pd.to_datetime(df[\"closeTime\"], utc=True, errors=\"coerce\")\n",
    "    df[\"day\"] = df[\"date\"].dt.date\n",
    "    # Rolling max et min du close pour chaque jour\n",
    "    df[\"cummax_close\"] = df.groupby(\"day\")[\"close\"].cummax()\n",
    "    df[\"cummin_close\"] = df.groupby(\"day\")[\"close\"].cummin()\n",
    "    # True si le close actuel est le max ou min du jour jusqu'à présent\n",
    "    df[\"is_current_max\"] = df[\"close\"] == df[\"cummax_close\"]\n",
    "    df[\"is_current_min\"] = df[\"close\"] == df[\"cummin_close\"]\n",
    "    return df"
   ]
  },
  {
   "cell_type": "code",
   "execution_count": 110,
   "id": "69e14fd1",
   "metadata": {},
   "outputs": [],
   "source": [
    "def detect_high_of_day(df):\n",
    "    # S'assurer que la colonne date est bien en datetime\n",
    "    df[\"date\"] = pd.to_datetime(df[\"closeTime\"], utc=True, errors=\"coerce\")\n",
    "    # Extraire la date (sans l'heure)\n",
    "    df[\"day\"] = df[\"date\"].dt.date\n",
    "    # Trouver le prix max de chaque journée\n",
    "    daily_high = df.groupby(\"day\")[\"close\"].transform(\"max\")\n",
    "    daily_min = df.groupby(\"day\")[\"close\"].transform(\"min\")\n",
    "    # Créer une colonne booléenne : True si c'est le plus haut de la journée\n",
    "    df[\"is_high_of_day\"] = df[\"close\"] == daily_high\n",
    "    df[\"is_min_of_day\"] = df[\"close\"] == daily_min\n",
    "    return df\n"
   ]
  },
  {
   "cell_type": "code",
   "execution_count": 111,
   "id": "21d8b4a1",
   "metadata": {},
   "outputs": [],
   "source": [
    "clean_btc = detect_high_of_day(df_btc)\n",
    "clean_btc = current_max_low(clean_btc)"
   ]
  },
  {
   "cell_type": "code",
   "execution_count": 112,
   "id": "f6cdeb06",
   "metadata": {},
   "outputs": [
    {
     "data": {
      "text/html": [
       "<div>\n",
       "<style scoped>\n",
       "    .dataframe tbody tr th:only-of-type {\n",
       "        vertical-align: middle;\n",
       "    }\n",
       "\n",
       "    .dataframe tbody tr th {\n",
       "        vertical-align: top;\n",
       "    }\n",
       "\n",
       "    .dataframe thead th {\n",
       "        text-align: right;\n",
       "    }\n",
       "</style>\n",
       "<table border=\"1\" class=\"dataframe\">\n",
       "  <thead>\n",
       "    <tr style=\"text-align: right;\">\n",
       "      <th></th>\n",
       "      <th>openTime</th>\n",
       "      <th>open</th>\n",
       "      <th>high</th>\n",
       "      <th>low</th>\n",
       "      <th>close</th>\n",
       "      <th>volume</th>\n",
       "      <th>closeTime</th>\n",
       "      <th>quoteAssetVolume</th>\n",
       "      <th>numberOfTrades</th>\n",
       "      <th>takerBuyBase</th>\n",
       "      <th>takerBuyQuote</th>\n",
       "      <th>ignore</th>\n",
       "      <th>date</th>\n",
       "      <th>day</th>\n",
       "      <th>is_high_of_day</th>\n",
       "      <th>is_min_of_day</th>\n",
       "      <th>cummax_close</th>\n",
       "      <th>is_current_max</th>\n",
       "      <th>cummin_close</th>\n",
       "      <th>is_current_min</th>\n",
       "    </tr>\n",
       "  </thead>\n",
       "  <tbody>\n",
       "    <tr>\n",
       "      <th>0</th>\n",
       "      <td>2020-09-17 12:45:00+00:00</td>\n",
       "      <td>10846.15</td>\n",
       "      <td>10847.06</td>\n",
       "      <td>10800.01</td>\n",
       "      <td>10803.95</td>\n",
       "      <td>597.639102</td>\n",
       "      <td>2020-09-17 12:59:59.999000+00:00</td>\n",
       "      <td>6.467132e+06</td>\n",
       "      <td>8632</td>\n",
       "      <td>244.025994</td>\n",
       "      <td>2.640912e+06</td>\n",
       "      <td>0</td>\n",
       "      <td>2020-09-17 12:59:59.999000+00:00</td>\n",
       "      <td>2020-09-17</td>\n",
       "      <td>False</td>\n",
       "      <td>False</td>\n",
       "      <td>10803.95</td>\n",
       "      <td>True</td>\n",
       "      <td>10803.95</td>\n",
       "      <td>True</td>\n",
       "    </tr>\n",
       "    <tr>\n",
       "      <th>1</th>\n",
       "      <td>2020-09-17 13:00:00+00:00</td>\n",
       "      <td>10803.95</td>\n",
       "      <td>10820.65</td>\n",
       "      <td>10745.83</td>\n",
       "      <td>10769.31</td>\n",
       "      <td>1581.175014</td>\n",
       "      <td>2020-09-17 13:14:59.999000+00:00</td>\n",
       "      <td>1.704408e+07</td>\n",
       "      <td>14769</td>\n",
       "      <td>664.005481</td>\n",
       "      <td>7.157146e+06</td>\n",
       "      <td>0</td>\n",
       "      <td>2020-09-17 13:14:59.999000+00:00</td>\n",
       "      <td>2020-09-17</td>\n",
       "      <td>False</td>\n",
       "      <td>True</td>\n",
       "      <td>10803.95</td>\n",
       "      <td>False</td>\n",
       "      <td>10769.31</td>\n",
       "      <td>True</td>\n",
       "    </tr>\n",
       "    <tr>\n",
       "      <th>2</th>\n",
       "      <td>2020-09-17 13:15:00+00:00</td>\n",
       "      <td>10769.31</td>\n",
       "      <td>10799.00</td>\n",
       "      <td>10756.77</td>\n",
       "      <td>10781.00</td>\n",
       "      <td>748.213413</td>\n",
       "      <td>2020-09-17 13:29:59.999000+00:00</td>\n",
       "      <td>8.064910e+06</td>\n",
       "      <td>11097</td>\n",
       "      <td>351.875530</td>\n",
       "      <td>3.792940e+06</td>\n",
       "      <td>0</td>\n",
       "      <td>2020-09-17 13:29:59.999000+00:00</td>\n",
       "      <td>2020-09-17</td>\n",
       "      <td>False</td>\n",
       "      <td>False</td>\n",
       "      <td>10803.95</td>\n",
       "      <td>False</td>\n",
       "      <td>10769.31</td>\n",
       "      <td>False</td>\n",
       "    </tr>\n",
       "    <tr>\n",
       "      <th>3</th>\n",
       "      <td>2020-09-17 13:30:00+00:00</td>\n",
       "      <td>10781.11</td>\n",
       "      <td>10794.50</td>\n",
       "      <td>10762.68</td>\n",
       "      <td>10778.08</td>\n",
       "      <td>684.306532</td>\n",
       "      <td>2020-09-17 13:44:59.999000+00:00</td>\n",
       "      <td>7.376073e+06</td>\n",
       "      <td>9383</td>\n",
       "      <td>318.177799</td>\n",
       "      <td>3.429786e+06</td>\n",
       "      <td>0</td>\n",
       "      <td>2020-09-17 13:44:59.999000+00:00</td>\n",
       "      <td>2020-09-17</td>\n",
       "      <td>False</td>\n",
       "      <td>False</td>\n",
       "      <td>10803.95</td>\n",
       "      <td>False</td>\n",
       "      <td>10769.31</td>\n",
       "      <td>False</td>\n",
       "    </tr>\n",
       "    <tr>\n",
       "      <th>4</th>\n",
       "      <td>2020-09-17 13:45:00+00:00</td>\n",
       "      <td>10778.09</td>\n",
       "      <td>10822.00</td>\n",
       "      <td>10776.10</td>\n",
       "      <td>10819.91</td>\n",
       "      <td>787.662968</td>\n",
       "      <td>2020-09-17 13:59:59.999000+00:00</td>\n",
       "      <td>8.511489e+06</td>\n",
       "      <td>8946</td>\n",
       "      <td>433.376133</td>\n",
       "      <td>4.682812e+06</td>\n",
       "      <td>0</td>\n",
       "      <td>2020-09-17 13:59:59.999000+00:00</td>\n",
       "      <td>2020-09-17</td>\n",
       "      <td>False</td>\n",
       "      <td>False</td>\n",
       "      <td>10819.91</td>\n",
       "      <td>True</td>\n",
       "      <td>10769.31</td>\n",
       "      <td>False</td>\n",
       "    </tr>\n",
       "  </tbody>\n",
       "</table>\n",
       "</div>"
      ],
      "text/plain": [
       "                    openTime      open      high       low     close  \\\n",
       "0  2020-09-17 12:45:00+00:00  10846.15  10847.06  10800.01  10803.95   \n",
       "1  2020-09-17 13:00:00+00:00  10803.95  10820.65  10745.83  10769.31   \n",
       "2  2020-09-17 13:15:00+00:00  10769.31  10799.00  10756.77  10781.00   \n",
       "3  2020-09-17 13:30:00+00:00  10781.11  10794.50  10762.68  10778.08   \n",
       "4  2020-09-17 13:45:00+00:00  10778.09  10822.00  10776.10  10819.91   \n",
       "\n",
       "        volume                         closeTime  quoteAssetVolume  \\\n",
       "0   597.639102  2020-09-17 12:59:59.999000+00:00      6.467132e+06   \n",
       "1  1581.175014  2020-09-17 13:14:59.999000+00:00      1.704408e+07   \n",
       "2   748.213413  2020-09-17 13:29:59.999000+00:00      8.064910e+06   \n",
       "3   684.306532  2020-09-17 13:44:59.999000+00:00      7.376073e+06   \n",
       "4   787.662968  2020-09-17 13:59:59.999000+00:00      8.511489e+06   \n",
       "\n",
       "   numberOfTrades  takerBuyBase  takerBuyQuote  ignore  \\\n",
       "0            8632    244.025994   2.640912e+06       0   \n",
       "1           14769    664.005481   7.157146e+06       0   \n",
       "2           11097    351.875530   3.792940e+06       0   \n",
       "3            9383    318.177799   3.429786e+06       0   \n",
       "4            8946    433.376133   4.682812e+06       0   \n",
       "\n",
       "                              date         day  is_high_of_day  is_min_of_day  \\\n",
       "0 2020-09-17 12:59:59.999000+00:00  2020-09-17           False          False   \n",
       "1 2020-09-17 13:14:59.999000+00:00  2020-09-17           False           True   \n",
       "2 2020-09-17 13:29:59.999000+00:00  2020-09-17           False          False   \n",
       "3 2020-09-17 13:44:59.999000+00:00  2020-09-17           False          False   \n",
       "4 2020-09-17 13:59:59.999000+00:00  2020-09-17           False          False   \n",
       "\n",
       "   cummax_close  is_current_max  cummin_close  is_current_min  \n",
       "0      10803.95            True      10803.95            True  \n",
       "1      10803.95           False      10769.31            True  \n",
       "2      10803.95           False      10769.31           False  \n",
       "3      10803.95           False      10769.31           False  \n",
       "4      10819.91            True      10769.31           False  "
      ]
     },
     "execution_count": 112,
     "metadata": {},
     "output_type": "execute_result"
    }
   ],
   "source": [
    "clean_btc.head()"
   ]
  },
  {
   "cell_type": "code",
   "execution_count": 113,
   "id": "d8187a00",
   "metadata": {},
   "outputs": [
    {
     "data": {
      "image/png": "[encoded data removed]",
      "text/plain": [
       "<Figure size 640x480 with 1 Axes>"
      ]
     },
     "metadata": {},
     "output_type": "display_data"
    }
   ],
   "source": [
    "plt.figure()\n",
    "plt.plot(clean_btc[clean_btc[\"is_high_of_day\"]==True][\"close\"])\n",
    "plt.plot(clean_btc[clean_btc[\"is_min_of_day\"]==True][\"close\"])\n",
    "plt.show()"
   ]
  },
  {
   "cell_type": "code",
   "execution_count": 117,
   "id": "efe670ef",
   "metadata": {},
   "outputs": [
    {
     "data": {
      "text/plain": [
       "Index(['openTime', 'open', 'high', 'low', 'close', 'volume', 'closeTime',\n",
       "       'quoteAssetVolume', 'numberOfTrades', 'takerBuyBase', 'takerBuyQuote',\n",
       "       'ignore', 'date', 'day', 'is_high_of_day', 'is_min_of_day',\n",
       "       'cummax_close', 'is_current_max', 'cummin_close', 'is_current_min'],\n",
       "      dtype='object')"
      ]
     },
     "execution_count": 117,
     "metadata": {},
     "output_type": "execute_result"
    }
   ],
   "source": [
    "clean_btc.columns"
   ]
  },
  {
   "cell_type": "markdown",
   "id": "ac570720",
   "metadata": {},
   "source": [
    "## Moving average"
   ]
  },
  {
   "cell_type": "code",
   "execution_count": 115,
   "id": "7ba5c5c6",
   "metadata": {},
   "outputs": [],
   "source": [
    "def mva(df,window):\n",
    "    df[f'mva_{window}'] = df['close'].rolling(window=window).mean()\n",
    "    return df"
   ]
  },
  {
   "cell_type": "code",
   "execution_count": 118,
   "id": "8e11263e",
   "metadata": {},
   "outputs": [],
   "source": [
    "def preparation_data(df,name):\n",
    "    data = cleaner(df)\n",
    "    data = mva(data,20)\n",
    "    data = mva(data,50)\n",
    "    data = mva(data,100)\n",
    "    data = current_max_low(data)\n",
    "    data = detect_high_of_day(data)\n",
    "    data = data.columns(['openTime', 'open', 'high', 'low', 'close', 'volume', 'closeTime',\n",
    "       'quoteAssetVolume', 'numberOfTrades', 'takerBuyBase', 'takerBuyQuote', \n",
    "       'date', 'day', 'is_current_max', 'cummin_close', 'is_high_of_day', 'is_min_of_day'])\n",
    "    data.to_csv(f\"../data/cleaned_data_{name}.csv\", index=False)\n",
    "    return data"
   ]
  }
 ],
 "metadata": {
  "kernelspec": {
   "display_name": "Python 3",
   "language": "python",
   "name": "python3"
  },
  "language_info": {
   "codemirror_mode": {
    "name": "ipython",
    "version": 3
   },
   "file_extension": ".py",
   "mimetype": "text/x-python",
   "name": "python",
   "nbconvert_exporter": "python",
   "pygments_lexer": "ipython3",
   "version": "3.13.3"
  }
 },
 "nbformat": 4,
 "nbformat_minor": 5
}
