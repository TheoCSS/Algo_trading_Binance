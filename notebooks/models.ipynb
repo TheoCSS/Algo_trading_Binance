{
 "cells": [
  {
   "cell_type": "code",
   "execution_count": 6,
   "id": "748253c9",
   "metadata": {},
   "outputs": [],
   "source": [
    "import pandas as pd\n",
    "import numpy as np\n",
    "import matplotlib.pyplot as plt\n",
    "\n",
    "import sklearn.linear_model as lm\n",
    "from sklearn.preprocessing import StandardScaler\n",
    "\n"
   ]
  },
  {
   "cell_type": "markdown",
   "id": "a3ecbc7d",
   "metadata": {},
   "source": [
    "# Model separatly of the other crypto"
   ]
  },
  {
   "cell_type": "code",
   "execution_count": null,
   "id": "4ea7499f",
   "metadata": {},
   "outputs": [
    {
     "ename": "NameError",
     "evalue": "name 'prepare_for_sgd' is not defined",
     "output_type": "error",
     "traceback": [
      "\u001b[31m---------------------------------------------------------------------------\u001b[39m",
      "\u001b[31mNameError\u001b[39m                                 Traceback (most recent call last)",
      "\u001b[36mCell\u001b[39m\u001b[36m \u001b[39m\u001b[32mIn[4]\u001b[39m\u001b[32m, line 2\u001b[39m\n\u001b[32m      1\u001b[39m df_btc = pd.read_csv(\u001b[33m\"\u001b[39m\u001b[33m../data//BTCUSDT_15m.csv\u001b[39m\u001b[33m\"\u001b[39m)\n\u001b[32m----> \u001b[39m\u001b[32m2\u001b[39m X, y = \u001b[43mprepare_for_sgd\u001b[49m(df_btc)\n",
      "\u001b[31mNameError\u001b[39m: name 'prepare_for_sgd' is not defined"
     ]
    }
   ],
   "source": [
    "df_btc = pd.read_csv(\"../data//BTCUSDT_15m.csv\")\n"
   ]
  }
 ],
 "metadata": {
  "kernelspec": {
   "display_name": "Python 3",
   "language": "python",
   "name": "python3"
  },
  "language_info": {
   "codemirror_mode": {
    "name": "ipython",
    "version": 3
   },
   "file_extension": ".py",
   "mimetype": "text/x-python",
   "name": "python",
   "nbconvert_exporter": "python",
   "pygments_lexer": "ipython3",
   "version": "3.13.3"
  }
 },
 "nbformat": 4,
 "nbformat_minor": 5
}
